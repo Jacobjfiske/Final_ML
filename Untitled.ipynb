{
 "cells": [
  {
   "cell_type": "code",
   "execution_count": 1,
   "id": "64dca70d-5901-4559-8a2c-74555376093d",
   "metadata": {},
   "outputs": [
    {
     "name": "stdout",
     "output_type": "stream",
     "text": [
      "Imported the EMNIST libraries we need!\n",
      "Extracted our samples and divided our training and testing data sets\n",
      "Created our first MLP network\n",
      "Iteration 1, loss = 1.06351395\n",
      "Iteration 2, loss = 0.64844650\n",
      "Iteration 3, loss = 0.56103245\n",
      "Iteration 4, loss = 0.51987725\n",
      "Iteration 5, loss = 0.49182099\n",
      "Iteration 6, loss = 0.47301057\n",
      "Iteration 7, loss = 0.45839220\n",
      "Iteration 8, loss = 0.44603836\n",
      "Iteration 9, loss = 0.43479721\n",
      "Iteration 10, loss = 0.42809575\n",
      "Iteration 11, loss = 0.41639233\n",
      "Iteration 12, loss = 0.40782908\n",
      "Iteration 13, loss = 0.40548360\n",
      "Iteration 14, loss = 0.39965983\n",
      "Iteration 15, loss = 0.39296832\n",
      "Iteration 16, loss = 0.38883219\n",
      "Iteration 17, loss = 0.38393955\n",
      "Iteration 18, loss = 0.37948343\n",
      "Iteration 19, loss = 0.37307616\n",
      "Iteration 20, loss = 0.37166732\n",
      "Training set score: 0.886500"
     ]
    },
    {
     "name": "stderr",
     "output_type": "stream",
     "text": [
      "c:\\users\\mothafucka\\appdata\\local\\programs\\python\\python39\\lib\\site-packages\\sklearn\\neural_network\\_multilayer_perceptron.py:614: ConvergenceWarning: Stochastic Optimizer: Maximum iterations (20) reached and the optimization hasn't converged yet.\n",
      "  warnings.warn(\n"
     ]
    },
    {
     "name": "stdout",
     "output_type": "stream",
     "text": [
      "\n",
      "Test set score: 0.840800\n"
     ]
    },
    {
     "data": {
      "image/png": "[encoded data removed]",
      "text/plain": [
       "<Figure size 288x288 with 1 Axes>"
      ]
     },
     "metadata": {
      "needs_background": "light"
     },
     "output_type": "display_data"
    },
    {
     "name": "stdout",
     "output_type": "stream",
     "text": [
      "There were 84 times that the letter i was predicted to be the letter l.\n"
     ]
    },
    {
     "data": {
      "image/png": "[encoded data removed]",
      "text/plain": [
       "<Figure size 432x288 with 1 Axes>"
      ]
     },
     "metadata": {
      "needs_background": "light"
     },
     "output_type": "display_data"
    },
    {
     "name": "stdout",
     "output_type": "stream",
     "text": [
      "Iteration 1, loss = 1.15599672\n",
      "Iteration 2, loss = 0.54834774\n",
      "Iteration 3, loss = 0.44784035\n",
      "Iteration 4, loss = 0.39865207\n",
      "Iteration 5, loss = 0.36308811\n",
      "Iteration 6, loss = 0.33567397\n",
      "Iteration 7, loss = 0.31904877\n",
      "Iteration 8, loss = 0.29485588\n",
      "Iteration 9, loss = 0.27846574\n",
      "Iteration 10, loss = 0.26938228\n",
      "Iteration 11, loss = 0.25802023\n",
      "Iteration 12, loss = 0.25723763\n",
      "Iteration 13, loss = 0.24092200\n",
      "Iteration 14, loss = 0.23226412\n",
      "Iteration 15, loss = 0.23512006\n",
      "Iteration 16, loss = 0.22575190\n",
      "Iteration 17, loss = 0.22427105\n",
      "Iteration 18, loss = 0.22087140\n",
      "Iteration 19, loss = 0.21420822\n",
      "Iteration 20, loss = 0.20687608\n",
      "Iteration 21, loss = 0.20286756\n",
      "Iteration 22, loss = 0.20410037\n",
      "Iteration 23, loss = 0.19924623\n",
      "Iteration 24, loss = 0.19453563\n",
      "Iteration 25, loss = 0.20100520\n",
      "Iteration 26, loss = 0.19723902\n",
      "Iteration 27, loss = 0.19461739\n",
      "Iteration 28, loss = 0.19810787\n",
      "Iteration 29, loss = 0.19411719\n",
      "Iteration 30, loss = 0.19403925\n",
      "Iteration 31, loss = 0.18427764\n",
      "Iteration 32, loss = 0.17936913\n",
      "Iteration 33, loss = 0.18794325\n",
      "Iteration 34, loss = 0.18921546\n",
      "Iteration 35, loss = 0.17923619\n",
      "Iteration 36, loss = 0.18739129\n",
      "Iteration 37, loss = 0.17783602\n",
      "Iteration 38, loss = 0.18085960\n",
      "Iteration 39, loss = 0.18319824\n",
      "Iteration 40, loss = 0.17591093\n",
      "Iteration 41, loss = 0.18045202\n",
      "Iteration 42, loss = 0.17807562\n",
      "Iteration 43, loss = 0.17308203\n",
      "Iteration 44, loss = 0.17779780\n",
      "Iteration 45, loss = 0.16804696\n",
      "Iteration 46, loss = 0.17823998\n",
      "Iteration 47, loss = 0.17307166\n",
      "Iteration 48, loss = 0.18442473\n",
      "Iteration 49, loss = 0.18199847\n",
      "Iteration 50, loss = 0.17013298\n"
     ]
    },
    {
     "name": "stderr",
     "output_type": "stream",
     "text": [
      "c:\\users\\mothafucka\\appdata\\local\\programs\\python\\python39\\lib\\site-packages\\sklearn\\neural_network\\_multilayer_perceptron.py:614: ConvergenceWarning: Stochastic Optimizer: Maximum iterations (50) reached and the optimization hasn't converged yet.\n",
      "  warnings.warn(\n"
     ]
    },
    {
     "name": "stdout",
     "output_type": "stream",
     "text": [
      "Training set score: 0.950067\n",
      "Test set score: 0.889100\n"
     ]
    },
    {
     "ename": "StopIteration",
     "evalue": "",
     "output_type": "error",
     "traceback": [
      "\u001b[1;31m---------------------------------------------------------------------------\u001b[0m",
      "\u001b[1;31mStopIteration\u001b[0m                             Traceback (most recent call last)",
      "\u001b[1;32m<ipython-input-1-c8ac6d80b75a>\u001b[0m in \u001b[0;36m<module>\u001b[1;34m\u001b[0m\n\u001b[0;32m     78\u001b[0m \u001b[1;33m\u001b[0m\u001b[0m\n\u001b[0;32m     79\u001b[0m \u001b[1;31m# Puts all the data in the \"files\" variable\u001b[0m\u001b[1;33m\u001b[0m\u001b[1;33m\u001b[0m\u001b[1;33m\u001b[0m\u001b[0m\n\u001b[1;32m---> 80\u001b[1;33m \u001b[0mpath\u001b[0m\u001b[1;33m,\u001b[0m \u001b[0mdirs\u001b[0m\u001b[1;33m,\u001b[0m \u001b[0mfiles\u001b[0m \u001b[1;33m=\u001b[0m \u001b[0mnext\u001b[0m\u001b[1;33m(\u001b[0m\u001b[0mos\u001b[0m\u001b[1;33m.\u001b[0m\u001b[0mwalk\u001b[0m\u001b[1;33m(\u001b[0m\u001b[1;34m\"letters_mod\"\u001b[0m\u001b[1;33m)\u001b[0m\u001b[1;33m)\u001b[0m\u001b[1;33m\u001b[0m\u001b[1;33m\u001b[0m\u001b[0m\n\u001b[0m\u001b[0;32m     81\u001b[0m \u001b[0mfiles\u001b[0m\u001b[1;33m.\u001b[0m\u001b[0msort\u001b[0m\u001b[1;33m(\u001b[0m\u001b[1;33m)\u001b[0m\u001b[1;33m\u001b[0m\u001b[1;33m\u001b[0m\u001b[0m\n\u001b[0;32m     82\u001b[0m \u001b[1;33m\u001b[0m\u001b[0m\n",
      "\u001b[1;31mStopIteration\u001b[0m: "
     ]
    }
   ],
   "source": [
    "from emnist import extract_training_samples\n",
    "import matplotlib.pyplot as plt\n",
    "from sklearn.metrics import confusion_matrix\n",
    "from sklearn.neural_network import MLPClassifier\n",
    "import os\n",
    "import numpy\n",
    "import cv2\n",
    "\n",
    "print(\"Imported the EMNIST libraries we need!\")\n",
    "\n",
    "# X will be our images and y will be the labels\n",
    "X, y = extract_training_samples('letters')\n",
    "\n",
    "# Make sure that every pixel in all of the images is a value between 0 and 1\n",
    "X = X / 255.\n",
    "\n",
    "# Use the first 60000 instances as training and the next 10000 as testing\n",
    "X_train, X_test = X[:60000], X[60000:70000]\n",
    "y_train, y_test = y[:60000], y[60000:70000]\n",
    "\n",
    "# record the number of samples in each dataset and the number of pixels in each image\n",
    "X_train = X_train.reshape(60000, 784)\n",
    "X_test = X_test.reshape(10000, 784)\n",
    "\n",
    "print(\"Extracted our samples and divided our training and testing data sets\")\n",
    "\n",
    "# This creates our first MLP with 1 hidden layer with 50 neurons and sets it to run through the data 20 times\n",
    "mlp1 = MLPClassifier(hidden_layer_sizes=(50,), max_iter=20, alpha=1e-4,\n",
    "                     solver='sgd', verbose=10, tol=1e-4, random_state=1,\n",
    "                     learning_rate_init=.1)\n",
    "\n",
    "print(\"Created our first MLP network\")\n",
    "\n",
    "mlp1.fit(X_train, y_train)\n",
    "print(\"Training set score: %f\" % mlp1.score(X_train, y_train))\n",
    "print(\"Test set score: %f\" % mlp1.score(X_test, y_test))\n",
    "\n",
    "# First let's initialize a list with all the predicted values from the training set\n",
    "y_pred = mlp1.predict(X_test)\n",
    "\n",
    "# Now let's visualize the errors between the predictions and the actual labels using a confusion matrix\n",
    "cm = confusion_matrix(y_test, y_pred)\n",
    "plt.matshow(cm)\n",
    "plt.show()\n",
    "\n",
    "# You can change this to any letters that you think the neural network may have confused...\n",
    "predicted_letter = 'l'\n",
    "actual_letter = 'i'\n",
    "\n",
    "# This code counts all mistakes for the letters above\n",
    "mistake_list = []\n",
    "for i in range(len(y_test)):\n",
    "    if y_test[i] == (ord(actual_letter) - 96) and y_pred[i] == (ord(predicted_letter) - 96):\n",
    "        mistake_list.append(i)\n",
    "print(\"There were \" + str(\n",
    "    len(mistake_list)) + \" times that the letter \" + actual_letter + \" was predicted to be the letter \" + predicted_letter + \".\")\n",
    "\n",
    "# Once we know how many mistakes were made, we can change this to see an image of a particular one\n",
    "mistake_to_show = 4  # <<< e.g., change this to 3 if you want to see the 4th mistake\n",
    "\n",
    "# This code checks that the number mistake you asked for can be shown and if so, displays an image of it\n",
    "if len(mistake_list) > mistake_to_show:\n",
    "    img = X_test[mistake_list[mistake_to_show]]\n",
    "    plt.imshow(img.reshape((28, 28)))\n",
    "    plt.show()\n",
    "else:\n",
    "    print(\"Couldn't show mistake number \" + str(mistake_to_show + 1) + \" because there were only \" + str(\n",
    "        len(mistake_list)) + \" mistakes to show!\")\n",
    "\n",
    "# Change some of the values in the below statement and re-run to see how they\n",
    "# affect performance!\n",
    "mlp2 = MLPClassifier(hidden_layer_sizes=(100, 100, 100, 100, 100,), max_iter=50, alpha=1e-4,\n",
    "                     solver='sgd', verbose=10, tol=1e-4, random_state=1,\n",
    "                     learning_rate_init=.1)\n",
    "mlp2.fit(X_train, y_train)\n",
    "print(\"Training set score: %f\" % mlp2.score(X_train, y_train))\n",
    "print(\"Test set score: %f\" % mlp2.score(X_test, y_test))\n",
    "\n",
    "# Puts all the data in the \"files\" variable\n",
    "path, dirs, files = next(os.walk(\"letters_mod\"))\n",
    "files.sort()\n",
    "\n",
    "# This code processes all the scanned images and adds them to the handwritten_story\n",
    "handwritten_story = []\n",
    "for i in range(len(files)):\n",
    "    img = cv2.imread(\"letters_mod\" + files[i], cv2.IMREAD_GRAYSCALE)\n",
    "    handwritten_story.append(img)\n",
    "\n",
    "print(\"Imported the scanned images.\")\n",
    "\n",
    "plt.imshow(handwritten_story[4])  # <--- Change this index to see different letters\n",
    "plt.show()\n",
    "\n",
    "typed_story = \"\"\n",
    "for letter in handwritten_story:\n",
    "    letter = cv2.resize(letter, (28, 28), interpolation=cv2.INTER_CUBIC)\n",
    "\n",
    "    # this bit of code checks to see if the image is just a blank space by looking at the color of all the pixels summed\n",
    "    total_pixel_value = 0\n",
    "    for j in range(28):\n",
    "        for k in range(28):\n",
    "            total_pixel_value += letter[j, k]\n",
    "    if total_pixel_value < 20:\n",
    "        typed_story = typed_story + \" \"\n",
    "    else:  # if it NOT a blank, it actually runs the prediction algorithm on it\n",
    "        single_item_array = (numpy.array(letter)).reshape(1, 784)\n",
    "        prediction = mlp2.predict(single_item_array)\n",
    "        typed_story = typed_story + str(chr(prediction[0] + 96))\n",
    "\n",
    "print(\"Conversion to typed story complete!\")\n",
    "print(typed_story)\n",
    "\n",
    "# These steps process the scanned images to be in the same format and have the same properties as the EMNIST images\n",
    "# They are described by the EMNIST authors in detail here: https://arxiv.org/abs/1702.05373v1\n",
    "processed_story = []\n",
    "\n",
    "for img in handwritten_story:\n",
    "    # step 1: Apply Gaussian blur filter\n",
    "    img = cv2.GaussianBlur(img, (7, 7), 0)\n",
    "\n",
    "    # steps 2 and 3: Extract the Region of Interest in the image and center in square\n",
    "    points = cv2.findNonZero(img)\n",
    "    x, y, w, h = cv2.boundingRect(points)\n",
    "    if w > 0 and h > 0:\n",
    "        if w > h:\n",
    "            y = y - (w - h) // 2\n",
    "            img = img[y:y + w, x:x + w]\n",
    "        else:\n",
    "            x = x - (h - w) // 2\n",
    "            img = img[y:y + h, x:x + h]\n",
    "\n",
    "    # step 4: Resize and resample to be 28 x 28 pixels\n",
    "    img = cv2.resize(img, (28, 28), interpolation=cv2.INTER_CUBIC)\n",
    "\n",
    "    # step 5: Normalize pixels and reshape before adding to the new story array\n",
    "    img = img / 255\n",
    "    img = img.reshape((28, 28))\n",
    "    processed_story.append(img)\n",
    "\n",
    "print(\"Processed the scanned images.\")\n",
    "\n",
    "plt.imshow(processed_story[4])  # <<< change this index if you want to see a different letter from the story\n",
    "plt.show()\n",
    "\n",
    "typed_story = \"\"\n",
    "for letter in processed_story:\n",
    "    # this bit of code checks to see if the image is just a blank space by looking at the color of all the pixels summed\n",
    "    total_pixel_value = 0\n",
    "    for j in range(28):\n",
    "        for k in range(28):\n",
    "            total_pixel_value += letter[j, k]\n",
    "    if total_pixel_value < 20:\n",
    "        typed_story = typed_story + \" \"\n",
    "    else:  # if it NOT a blank, it actually runs the prediction algorithm on it\n",
    "        single_item_array = (numpy.array(letter)).reshape(1, 784)\n",
    "        prediction = mlp2.predict(single_item_array)\n",
    "        typed_story = typed_story + str(chr(prediction[0] + 96))\n",
    "\n",
    "print(\"Conversion to typed story complete!\")\n",
    "print(typed_story)\n"
   ]
  },
  {
   "cell_type": "code",
   "execution_count": 6,
   "id": "f5bb8797-77f8-47a0-a26e-63c8c2ff72e6",
   "metadata": {},
   "outputs": [
    {
     "name": "stdout",
     "output_type": "stream",
     "text": [
      "Imported the EMNIST libraries we need!\n"
     ]
    },
    {
     "name": "stderr",
     "output_type": "stream",
     "text": [
      "The system cannot find the path specified.\n"
     ]
    }
   ],
   "source": [
    "!git clone https://github.com/sorki/python-mnist\n",
    "!./python-mnist/bin/mnist_get_data.sh\n",
    "!pip3 install emnist\n",
    "from emnist import extract_training_samples\n",
    "\n",
    "print(\"Imported the EMNIST libraries we need!\")"
   ]
  },
  {
   "cell_type": "code",
   "execution_count": 7,
   "id": "f19bbec8-3026-4721-8627-1f24e8493592",
   "metadata": {},
   "outputs": [
    {
     "name": "stderr",
     "output_type": "stream",
     "text": [
      "Cloning into 'lab1-neural-networks'...\n",
      "fatal: not a git repository (or any of the parent directories): .git\n",
      "'ls' is not recognized as an internal or external command,\n",
      "operable program or batch file.\n",
      "The system cannot find the path specified.\n",
      "'pwd' is not recognized as an internal or external command,\n",
      "operable program or batch file.\n"
     ]
    }
   ],
   "source": [
    "!git clone https://github.com/crash-course-ai/lab1-neural-networks.git\n",
    "!git pull\n",
    "!ls lab1-neural-networks/letters_mod\n",
    "!cd /content/lab1-neural-networks/letters_mod\n",
    "!pwd"
   ]
  },
  {
   "cell_type": "code",
   "execution_count": null,
   "id": "df68a71d-43b9-484a-a9cf-77642a7d7ba6",
   "metadata": {},
   "outputs": [],
   "source": []
  }
 ],
 "metadata": {
  "kernelspec": {
   "display_name": "Python 3",
   "language": "python",
   "name": "python3"
  },
  "language_info": {
   "codemirror_mode": {
    "name": "ipython",
    "version": 3
   },
   "file_extension": ".py",
   "mimetype": "text/x-python",
   "name": "python",
   "nbconvert_exporter": "python",
   "pygments_lexer": "ipython3",
   "version": "3.9.2"
  }
 },
 "nbformat": 4,
 "nbformat_minor": 5
}
